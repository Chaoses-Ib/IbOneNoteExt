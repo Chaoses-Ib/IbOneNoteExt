{
 "cells": [
  {
   "cell_type": "code",
   "execution_count": 2,
   "metadata": {},
   "outputs": [],
   "source": [
    "import re\n",
    "from pandas.io.clipboard import clipboard_get, clipboard_set"
   ]
  },
  {
   "cell_type": "code",
   "execution_count": 11,
   "metadata": {},
   "outputs": [],
   "source": [
    "# Copy note from OneNote to Obsidian, and then copy Obsidian\n",
    "# Do not copy images\n",
    "original_page = clipboard_get()"
   ]
  },
  {
   "cell_type": "code",
   "execution_count": 12,
   "metadata": {},
   "outputs": [],
   "source": [
    "page = original_page\n",
    "\n",
    "# Fix newlines\n",
    "page = re.sub('\\n\\n', '\\n', page)\n",
    "page = re.sub(r'^#', '\\n#', page, flags=re.MULTILINE)\n",
    "\n",
    "# Fix lists\n",
    "page = re.sub(r'^-   ', r'- ', page, flags=re.MULTILINE)\n",
    "page = re.sub(r'^(\\d)\\.  ', r'\\1. ', page, flags=re.MULTILINE)\n",
    "\n",
    "# Titles\n",
    "if re.search(r'^## ', page, flags=re.MULTILINE) is None:\n",
    "    page = re.sub(r'^#', '', page, flags=re.MULTILINE)\n",
    "\n",
    "# Time markers\n",
    "page = re.sub(r'^t(?:\\d{6}|\\d{4}|\\d{2})$', r'\\n<!--\\g<0>-->', page, flags=re.MULTILINE)\n",
    "\n",
    "clipboard_set(page)"
   ]
  }
 ],
 "metadata": {
  "kernelspec": {
   "display_name": "Python 3.9.1 ('base')",
   "language": "python",
   "name": "python3"
  },
  "language_info": {
   "codemirror_mode": {
    "name": "ipython",
    "version": 3
   },
   "file_extension": ".py",
   "mimetype": "text/x-python",
   "name": "python",
   "nbconvert_exporter": "python",
   "pygments_lexer": "ipython3",
   "version": "3.9.1"
  },
  "orig_nbformat": 4,
  "vscode": {
   "interpreter": {
    "hash": "19d1d53a962d236aa061289c2ac16dc8e6d9648c89fe79f459ae9a3493bc67b4"
   }
  }
 },
 "nbformat": 4,
 "nbformat_minor": 2
}
